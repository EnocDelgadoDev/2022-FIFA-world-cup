{
 "cells": [
  {
   "cell_type": "markdown",
   "id": "a1f2147a",
   "metadata": {},
   "source": [
    "# Import"
   ]
  },
  {
   "cell_type": "code",
   "execution_count": 1,
   "id": "170237b1",
   "metadata": {},
   "outputs": [],
   "source": [
    "import pandas as pd\n",
    "from string import ascii_uppercase as alphabet"
   ]
  },
  {
   "cell_type": "markdown",
   "id": "b16c3237",
   "metadata": {},
   "source": [
    "## Get data"
   ]
  },
  {
   "cell_type": "code",
   "execution_count": 2,
   "id": "4f2efb6b",
   "metadata": {},
   "outputs": [],
   "source": [
    "all_tables = pd.read_html('https://en.wikipedia.org/wiki/2022_FIFA_World_Cup')"
   ]
  },
  {
   "cell_type": "code",
   "execution_count": 3,
   "id": "f0e0e920",
   "metadata": {},
   "outputs": [
    {
     "data": {
      "text/html": [
       "<div>\n",
       "<style scoped>\n",
       "    .dataframe tbody tr th:only-of-type {\n",
       "        vertical-align: middle;\n",
       "    }\n",
       "\n",
       "    .dataframe tbody tr th {\n",
       "        vertical-align: top;\n",
       "    }\n",
       "\n",
       "    .dataframe thead th {\n",
       "        text-align: right;\n",
       "    }\n",
       "</style>\n",
       "<table border=\"1\" class=\"dataframe\">\n",
       "  <thead>\n",
       "    <tr style=\"text-align: right;\">\n",
       "      <th></th>\n",
       "      <th>Pos</th>\n",
       "      <th>Teamvte</th>\n",
       "      <th>Pld</th>\n",
       "      <th>W</th>\n",
       "      <th>D</th>\n",
       "      <th>L</th>\n",
       "      <th>GF</th>\n",
       "      <th>GA</th>\n",
       "      <th>GD</th>\n",
       "      <th>Pts</th>\n",
       "      <th>Qualification</th>\n",
       "    </tr>\n",
       "  </thead>\n",
       "  <tbody>\n",
       "    <tr>\n",
       "      <th>0</th>\n",
       "      <td>1</td>\n",
       "      <td>France</td>\n",
       "      <td>3</td>\n",
       "      <td>2</td>\n",
       "      <td>0</td>\n",
       "      <td>1</td>\n",
       "      <td>6</td>\n",
       "      <td>3</td>\n",
       "      <td>+3</td>\n",
       "      <td>6</td>\n",
       "      <td>Advanced to knockout stage</td>\n",
       "    </tr>\n",
       "    <tr>\n",
       "      <th>1</th>\n",
       "      <td>2</td>\n",
       "      <td>Australia</td>\n",
       "      <td>3</td>\n",
       "      <td>2</td>\n",
       "      <td>0</td>\n",
       "      <td>1</td>\n",
       "      <td>3</td>\n",
       "      <td>4</td>\n",
       "      <td>−1</td>\n",
       "      <td>6</td>\n",
       "      <td>Advanced to knockout stage</td>\n",
       "    </tr>\n",
       "    <tr>\n",
       "      <th>2</th>\n",
       "      <td>3</td>\n",
       "      <td>Tunisia</td>\n",
       "      <td>3</td>\n",
       "      <td>1</td>\n",
       "      <td>1</td>\n",
       "      <td>1</td>\n",
       "      <td>1</td>\n",
       "      <td>1</td>\n",
       "      <td>0</td>\n",
       "      <td>4</td>\n",
       "      <td>NaN</td>\n",
       "    </tr>\n",
       "    <tr>\n",
       "      <th>3</th>\n",
       "      <td>4</td>\n",
       "      <td>Denmark</td>\n",
       "      <td>3</td>\n",
       "      <td>0</td>\n",
       "      <td>1</td>\n",
       "      <td>2</td>\n",
       "      <td>1</td>\n",
       "      <td>3</td>\n",
       "      <td>−2</td>\n",
       "      <td>1</td>\n",
       "      <td>NaN</td>\n",
       "    </tr>\n",
       "  </tbody>\n",
       "</table>\n",
       "</div>"
      ],
      "text/plain": [
       "   Pos    Teamvte  Pld  W  D  L  GF  GA  GD  Pts               Qualification\n",
       "0    1     France    3  2  0  1   6   3  +3    6  Advanced to knockout stage\n",
       "1    2  Australia    3  2  0  1   3   4  −1    6  Advanced to knockout stage\n",
       "2    3    Tunisia    3  1  1  1   1   1   0    4                         NaN\n",
       "3    4    Denmark    3  0  1  2   1   3  −2    1                         NaN"
      ]
     },
     "execution_count": 3,
     "metadata": {},
     "output_type": "execute_result"
    }
   ],
   "source": [
    "# All groups\n",
    "# 9 -> 7*8 + 9 = 65\n",
    "all_tables[9]\n",
    "all_tables[16]\n",
    "all_tables[23]\n",
    "all_tables[30]"
   ]
  },
  {
   "cell_type": "code",
   "execution_count": 4,
   "id": "74e12069",
   "metadata": {},
   "outputs": [
    {
     "name": "stdout",
     "output_type": "stream",
     "text": [
      "9\n",
      "16\n",
      "23\n",
      "30\n",
      "37\n",
      "44\n",
      "51\n",
      "58\n"
     ]
    }
   ],
   "source": [
    "# Scroll through all group tables\n",
    "for i in range(9, 65, 7):\n",
    "    print(i)"
   ]
  },
  {
   "cell_type": "code",
   "execution_count": 5,
   "id": "2e6fe464",
   "metadata": {
    "scrolled": true
   },
   "outputs": [
    {
     "data": {
      "text/plain": [
       "'Team.mw-parser-output .navbar{display:inline;font-size:88%;font-weight:normal}.mw-parser-output .navbar-collapse{float:left;text-align:left}.mw-parser-output .navbar-boxtext{word-spacing:0}.mw-parser-output .navbar ul{display:inline-block;white-space:nowrap;line-height:inherit}.mw-parser-output .navbar-brackets::before{margin-right:-0.125em;content:\"[ \"}.mw-parser-output .navbar-brackets::after{margin-left:-0.125em;content:\" ]\"}.mw-parser-output .navbar li{word-spacing:-0.125em}.mw-parser-output .navbar a>span,.mw-parser-output .navbar a>abbr{text-decoration:inherit}.mw-parser-output .navbar-mini abbr{font-variant:small-caps;border-bottom:none;text-decoration:none;cursor:inherit}.mw-parser-output .navbar-ct-full{font-size:114%;margin:0 7em}.mw-parser-output .navbar-ct-mini{font-size:114%;margin:0 4em}vte'"
      ]
     },
     "execution_count": 5,
     "metadata": {},
     "output_type": "execute_result"
    }
   ],
   "source": [
    "# columns allow us to know whole colomns that exist in our data frame \n",
    "all_tables[9].columns[1]"
   ]
  },
  {
   "cell_type": "code",
   "execution_count": 6,
   "id": "814dcbcd",
   "metadata": {},
   "outputs": [
    {
     "name": "stdout",
     "output_type": "stream",
     "text": [
      "   Pos         Team  Pld  W  D  L  GF  GA  GD  Pts\n",
      "0    1  Netherlands    3  2  1  0   5   1  +4    7\n",
      "1    2      Senegal    3  2  0  1   5   4  +1    6\n",
      "2    3      Ecuador    3  1  1  1   4   3  +1    4\n",
      "3    4    Qatar (H)    3  0  0  3   1   7  −6    0\n",
      "   Pos           Team  Pld  W  D  L  GF  GA  GD  Pts\n",
      "0    1        England    3  2  1  0   9   2  +7    7\n",
      "1    2  United States    3  1  2  0   2   1  +1    5\n",
      "2    3           Iran    3  1  0  2   4   7  −3    3\n",
      "3    4          Wales    3  0  1  2   1   6  −5    1\n",
      "   Pos          Team  Pld  W  D  L  GF  GA  GD  Pts\n",
      "0    1     Argentina    3  2  0  1   5   2  +3    6\n",
      "1    2        Poland    3  1  1  1   2   2   0    4\n",
      "2    3        Mexico    3  1  1  1   2   3  −1    4\n",
      "3    4  Saudi Arabia    3  1  0  2   3   5  −2    3\n",
      "   Pos       Team  Pld  W  D  L  GF  GA  GD  Pts\n",
      "0    1     France    3  2  0  1   6   3  +3    6\n",
      "1    2  Australia    3  2  0  1   3   4  −1    6\n",
      "2    3    Tunisia    3  1  1  1   1   1   0    4\n",
      "3    4    Denmark    3  0  1  2   1   3  −2    1\n",
      "   Pos        Team  Pld  W  D  L  GF  GA  GD  Pts\n",
      "0    1       Japan    3  2  0  1   4   3  +1    6\n",
      "1    2       Spain    3  1  1  1   9   3  +6    4\n",
      "2    3     Germany    3  1  1  1   6   5  +1    4\n",
      "3    4  Costa Rica    3  1  0  2   3  11  −8    3\n",
      "   Pos     Team  Pld  W  D  L  GF  GA  GD  Pts\n",
      "0    1  Morocco    3  2  1  0   4   1  +3    7\n",
      "1    2  Croatia    3  1  2  0   4   1  +3    5\n",
      "2    3  Belgium    3  1  1  1   1   2  −1    4\n",
      "3    4   Canada    3  0  0  3   2   7  −5    0\n",
      "   Pos         Team  Pld  W  D  L  GF  GA  GD  Pts\n",
      "0    1       Brazil    3  2  0  1   3   1  +2    6\n",
      "1    2  Switzerland    3  2  0  1   4   3  +1    6\n",
      "2    3     Cameroon    3  1  1  1   4   4   0    4\n",
      "3    4       Serbia    3  0  1  2   5   8  −3    1\n",
      "   Pos         Team  Pld  W  D  L  GF  GA  GD  Pts\n",
      "0    1     Portugal    3  2  0  1   6   4  +2    6\n",
      "1    2  South Korea    3  1  1  1   4   4   0    4\n",
      "2    3      Uruguay    3  1  1  1   2   2   0    4\n",
      "3    4        Ghana    3  1  0  2   5   7  −2    3\n"
     ]
    }
   ],
   "source": [
    "all_tables = pd.read_html('https://en.wikipedia.org/wiki/2022_FIFA_World_Cup')\n",
    "\n",
    "# Get all tables like data frame\n",
    "for i in range(9, 65, 7):\n",
    "    df = all_tables[i]\n",
    "    df.rename(columns={df.columns[1]:\"Team\"}, inplace=True) # inplace allow to save all change\n",
    "    df.pop('Qualification')\n",
    "    print(df)"
   ]
  },
  {
   "cell_type": "code",
   "execution_count": 7,
   "id": "136dd84a",
   "metadata": {},
   "outputs": [
    {
     "data": {
      "text/plain": [
       "'ABCDEFGHIJKLMNOPQRSTUVWXYZ'"
      ]
     },
     "execution_count": 7,
     "metadata": {},
     "output_type": "execute_result"
    }
   ],
   "source": [
    "alphabet"
   ]
  },
  {
   "cell_type": "code",
   "execution_count": 8,
   "id": "6011dee8",
   "metadata": {},
   "outputs": [
    {
     "name": "stdout",
     "output_type": "stream",
     "text": [
      "A 9\n",
      "B 16\n",
      "C 23\n",
      "D 30\n",
      "E 37\n",
      "F 44\n",
      "G 51\n",
      "H 58\n"
     ]
    }
   ],
   "source": [
    "# I did this to understand how to change the number to a letter\n",
    "for letter, i in zip(alphabet, range(9, 65, 7)):\n",
    "    print(letter, i)"
   ]
  },
  {
   "cell_type": "code",
   "execution_count": 13,
   "id": "9043cbc2",
   "metadata": {},
   "outputs": [],
   "source": [
    "dict_table = {}\n",
    "\n",
    "# Get all tables like data frame\n",
    "for letter, i in zip(alphabet, range(9, 65, 7)):\n",
    "    df = all_tables[i]\n",
    "    df.rename(columns={df.columns[1]:\"Team\"}, inplace=True) # inplace allow to save all change\n",
    "    dict_table[f'Group {letter}'] = df"
   ]
  },
  {
   "cell_type": "code",
   "execution_count": 14,
   "id": "c9cf5e4a",
   "metadata": {},
   "outputs": [
    {
     "data": {
      "text/html": [
       "<div>\n",
       "<style scoped>\n",
       "    .dataframe tbody tr th:only-of-type {\n",
       "        vertical-align: middle;\n",
       "    }\n",
       "\n",
       "    .dataframe tbody tr th {\n",
       "        vertical-align: top;\n",
       "    }\n",
       "\n",
       "    .dataframe thead th {\n",
       "        text-align: right;\n",
       "    }\n",
       "</style>\n",
       "<table border=\"1\" class=\"dataframe\">\n",
       "  <thead>\n",
       "    <tr style=\"text-align: right;\">\n",
       "      <th></th>\n",
       "      <th>Pos</th>\n",
       "      <th>Team</th>\n",
       "      <th>Pld</th>\n",
       "      <th>W</th>\n",
       "      <th>D</th>\n",
       "      <th>L</th>\n",
       "      <th>GF</th>\n",
       "      <th>GA</th>\n",
       "      <th>GD</th>\n",
       "      <th>Pts</th>\n",
       "    </tr>\n",
       "  </thead>\n",
       "  <tbody>\n",
       "    <tr>\n",
       "      <th>0</th>\n",
       "      <td>1</td>\n",
       "      <td>England</td>\n",
       "      <td>3</td>\n",
       "      <td>2</td>\n",
       "      <td>1</td>\n",
       "      <td>0</td>\n",
       "      <td>9</td>\n",
       "      <td>2</td>\n",
       "      <td>+7</td>\n",
       "      <td>7</td>\n",
       "    </tr>\n",
       "    <tr>\n",
       "      <th>1</th>\n",
       "      <td>2</td>\n",
       "      <td>United States</td>\n",
       "      <td>3</td>\n",
       "      <td>1</td>\n",
       "      <td>2</td>\n",
       "      <td>0</td>\n",
       "      <td>2</td>\n",
       "      <td>1</td>\n",
       "      <td>+1</td>\n",
       "      <td>5</td>\n",
       "    </tr>\n",
       "    <tr>\n",
       "      <th>2</th>\n",
       "      <td>3</td>\n",
       "      <td>Iran</td>\n",
       "      <td>3</td>\n",
       "      <td>1</td>\n",
       "      <td>0</td>\n",
       "      <td>2</td>\n",
       "      <td>4</td>\n",
       "      <td>7</td>\n",
       "      <td>−3</td>\n",
       "      <td>3</td>\n",
       "    </tr>\n",
       "    <tr>\n",
       "      <th>3</th>\n",
       "      <td>4</td>\n",
       "      <td>Wales</td>\n",
       "      <td>3</td>\n",
       "      <td>0</td>\n",
       "      <td>1</td>\n",
       "      <td>2</td>\n",
       "      <td>1</td>\n",
       "      <td>6</td>\n",
       "      <td>−5</td>\n",
       "      <td>1</td>\n",
       "    </tr>\n",
       "  </tbody>\n",
       "</table>\n",
       "</div>"
      ],
      "text/plain": [
       "   Pos           Team  Pld  W  D  L  GF  GA  GD  Pts\n",
       "0    1        England    3  2  1  0   9   2  +7    7\n",
       "1    2  United States    3  1  2  0   2   1  +1    5\n",
       "2    3           Iran    3  1  0  2   4   7  −3    3\n",
       "3    4          Wales    3  0  1  2   1   6  −5    1"
      ]
     },
     "execution_count": 14,
     "metadata": {},
     "output_type": "execute_result"
    }
   ],
   "source": [
    "dict_table['Group B']"
   ]
  },
  {
   "cell_type": "markdown",
   "id": "4c06d5df",
   "metadata": {},
   "source": [
    "## Export Data"
   ]
  },
  {
   "cell_type": "code",
   "execution_count": null,
   "id": "b4d45918",
   "metadata": {},
   "outputs": [],
   "source": []
  }
 ],
 "metadata": {
  "kernelspec": {
   "display_name": "Python 3 (ipykernel)",
   "language": "python",
   "name": "python3"
  },
  "language_info": {
   "codemirror_mode": {
    "name": "ipython",
    "version": 3
   },
   "file_extension": ".py",
   "mimetype": "text/x-python",
   "name": "python",
   "nbconvert_exporter": "python",
   "pygments_lexer": "ipython3",
   "version": "3.10.8"
  }
 },
 "nbformat": 4,
 "nbformat_minor": 5
}
